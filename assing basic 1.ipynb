{
 "cells": [
  {
   "cell_type": "code",
   "execution_count": null,
   "id": "0f091987-d4eb-49da-842c-d0e4efb8d1b1",
   "metadata": {},
   "outputs": [],
   "source": [
    "# Ans 1\n",
    "it is the science of collecting , organizing , analyzing data ."
   ]
  },
  {
   "cell_type": "code",
   "execution_count": null,
   "id": "b056ff9a-d46e-4c98-9632-dcf9090e243d",
   "metadata": {},
   "outputs": [],
   "source": [
    "# ans 2\n",
    "Types of statistics \n",
    "(1) descriptive statistics - it consist of organizing and summarizing data . \n",
    "# Example \n",
    "Measure of dispersion and variation\n",
    "\n",
    "(2) inferential statistics - it consist of using data you have measure to conclusion .\n",
    "# example \n",
    "z-test , t-test"
   ]
  },
  {
   "cell_type": "code",
   "execution_count": null,
   "id": "a4b04d98-e876-49f1-b48f-ce55cc5363bb",
   "metadata": {},
   "outputs": [],
   "source": [
    "#ans 3\n",
    "type of data are \n",
    "(1) Quantitative data \n",
    "(2) Qualitative data \n",
    "\n",
    "Difference between both are :\n",
    "    Quantitative data is numbers-based, countable, or measurable.\n",
    "    # Example - \n",
    "    weight , height , number of bank account\n",
    "    \n",
    "    Qualitative data is interpretation-based, descriptive, and relating to language. \n",
    "    #example \n",
    "    Gender , customer feedback ... etc\n"
   ]
  },
  {
   "cell_type": "code",
   "execution_count": null,
   "id": "77e2b054-2cd5-4a94-8461-23568ea85f8a",
   "metadata": {},
   "outputs": [],
   "source": [
    "# Ans 4\n",
    "(1)Qualitative data\n",
    "(2)Qualitative data\n",
    "(3)Quantitative data\n",
    "(4)Quantitative data"
   ]
  },
  {
   "cell_type": "code",
   "execution_count": null,
   "id": "894c3903-482b-43b7-b1b1-54fa4b159835",
   "metadata": {},
   "outputs": [],
   "source": [
    "# Ans 5\n",
    "level of measurement a classification that describes the nature of information within the values assigned to variables.\n",
    "\n",
    "type of level of measurement with examples:\n",
    "(1)nominal - colours , labels \n",
    "(2)ordinal - grades , happiness\n",
    "(3)interval - temprature\n",
    "(4)ratio - students marks , salary "
   ]
  },
  {
   "cell_type": "code",
   "execution_count": null,
   "id": "7afa585f-8d81-48dd-b79e-71d17bd8bceb",
   "metadata": {},
   "outputs": [],
   "source": [
    "# Ans 6\n",
    "It is important to understand the level of measurement of variables in research, because the level of measurement determines the type of statistical analysis that can be conducted, and, therefore, the type of conclusions that can be drawn from the research.\n",
    "\n"
   ]
  },
  {
   "cell_type": "code",
   "execution_count": null,
   "id": "0612a47c-a056-4773-9c89-947267deb91e",
   "metadata": {},
   "outputs": [],
   "source": [
    "# Ans 7\n",
    "Nominal is categorical where order does not matters . Where as in ordinal ranking , order is important ."
   ]
  },
  {
   "cell_type": "code",
   "execution_count": null,
   "id": "07933424-29c0-4565-8386-3f60683a3b21",
   "metadata": {},
   "outputs": [],
   "source": [
    "# Ans 8\n",
    "Histogram plot can be used to display data in term of range."
   ]
  },
  {
   "cell_type": "code",
   "execution_count": null,
   "id": "874420d8-59b5-44f0-89df-8782b3b0bae9",
   "metadata": {},
   "outputs": [],
   "source": [
    "# Ans 9\n",
    "Inferential statistics helps to compare data, make hypotheses and predictions.\n",
    "Descriptive statistics explains already known data related to a particular sample or population of a small size."
   ]
  },
  {
   "cell_type": "code",
   "execution_count": null,
   "id": "43214dc1-1fcd-4355-8588-293ff7677c60",
   "metadata": {},
   "outputs": [],
   "source": [
    "# example \n",
    "# inferential statistics \n",
    " For example, we could calculate the mean and standard deviation of the exam marks for the 100 students and this could provide valuable information about this group of 100 students. \n",
    "    \n",
    "# descriptive statistics\n",
    "if we had the results of 100 pieces of students coursework, we may be interested in the overall performance of those students."
   ]
  },
  {
   "cell_type": "code",
   "execution_count": null,
   "id": "c3fe9052-0cbb-47f3-838c-e8f5b32b6833",
   "metadata": {},
   "outputs": [],
   "source": [
    "# Ans 10\n",
    "Here are some common measures of central tendency and variability and their uses:\n",
    "\n",
    "1 .Mean: The mean is the sum of all values in a dataset divided by the total number of values. The mean is a useful measure of central tendency because it gives an idea of where the data is clustered. However, it can be affected by outliers, and is not always the best measure of central tendency when the data is skewed.\n",
    "\n",
    "2. Median: The median is the middle value in a dataset when the values are arranged in order. The median is a useful measure of central tendency because it is less affected by outliers than the mean. It is also a good measure of central tendency when the data is skewed.\n",
    "\n",
    "3. Mode: The mode is the most common value in a dataset. The mode is a useful measure of central tendency when the data has a clear peak or is bimodal.\n",
    "\n",
    "4. Range: The range is the difference between the maximum and minimum values in a dataset. The range is a useful measure of variability because it gives an idea of how spread out the data is. However, it can be affected by outliers and is not always the best measure of variability.\n",
    "\n",
    "5. Variance: The variance is a measure of how much the values in a dataset vary from the mean. It is calculated by taking the average of the squared differences from the mean. The variance is a useful measure of variability because it gives an idea of how spread out the data is, and is not affected by outliers.\n",
    "\n",
    "6. Standard deviation: The standard deviation is the square root of the variance. It is a useful measure of variability because it gives an idea of how much the values in a dataset vary from the mean in terms of standard units. It is also commonly used to define confidence intervals and to test hypotheses in statistical analysis.\n",
    "﻿\n"
   ]
  }
 ],
 "metadata": {
  "kernelspec": {
   "display_name": "Python 3 (ipykernel)",
   "language": "python",
   "name": "python3"
  },
  "language_info": {
   "codemirror_mode": {
    "name": "ipython",
    "version": 3
   },
   "file_extension": ".py",
   "mimetype": "text/x-python",
   "name": "python",
   "nbconvert_exporter": "python",
   "pygments_lexer": "ipython3",
   "version": "3.10.8"
  }
 },
 "nbformat": 4,
 "nbformat_minor": 5
}
